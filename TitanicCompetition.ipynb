{
 "cells": [
  {
   "cell_type": "code",
   "execution_count": 1,
   "id": "0d350e48",
   "metadata": {
    "_cell_guid": "b1076dfc-b9ad-4769-8c92-a6c4dae69d19",
    "_uuid": "8f2839f25d086af736a60e9eeb907d3b93b6e0e5",
    "execution": {
     "iopub.execute_input": "2024-08-13T16:45:22.318752Z",
     "iopub.status.busy": "2024-08-13T16:45:22.318310Z",
     "iopub.status.idle": "2024-08-13T16:45:32.239486Z",
     "shell.execute_reply": "2024-08-13T16:45:32.238035Z"
    },
    "papermill": {
     "duration": 9.939039,
     "end_time": "2024-08-13T16:45:32.242123",
     "exception": false,
     "start_time": "2024-08-13T16:45:22.303084",
     "status": "completed"
    },
    "tags": []
   },
   "outputs": [
    {
     "name": "stdout",
     "output_type": "stream",
     "text": [
      "/kaggle/input/titanic/train.csv\n",
      "/kaggle/input/titanic/test.csv\n",
      "/kaggle/input/titanic/gender_submission.csv\n"
     ]
    }
   ],
   "source": [
    "# This Python 3 environment comes with many helpful analytics libraries installed\n",
    "# It is defined by the kaggle/python Docker image: https://github.com/kaggle/docker-python\n",
    "# For example, here's several helpful packages to load\n",
    "\n",
    "import numpy as np # linear algebra\n",
    "import os\n",
    "import pandas as pd # data processing, CSV file I/O (e.g. pd.read_csv)\n",
    "import torch\n",
    "from sklearn.model_selection import train_test_split\n",
    "from sklearn.ensemble import RandomForestClassifier, RandomForestRegressor\n",
    "from sklearn.metrics import accuracy_score, mean_squared_error, r2_score\n",
    "from sklearn.model_selection import GridSearchCV\n",
    "from sklearn.linear_model import LinearRegression\n",
    "from sklearn.preprocessing import StandardScaler\n",
    "from torch import nn\n",
    "from torch.utils.data import DataLoader\n",
    "from torchvision import datasets, transforms\n",
    "from xgboost import XGBClassifier\n",
    "\n",
    "\n",
    "\n",
    "# Input data files are available in the read-only \"../input/\" directory\n",
    "# For example, running this (by clicking run or pressing Shift+Enter) will list all files under the input directory\n",
    "\n",
    "import os\n",
    "for dirname, _, filenames in os.walk('/kaggle/input'):\n",
    "    for filename in filenames:\n",
    "        print(os.path.join(dirname, filename))\n",
    "\n",
    "# You can write up to 20GB to the current directory (/kaggle/working/) that gets preserved as output when you create a version using \"Save & Run All\" \n",
    "# You can also write temporary files to /kaggle/temp/, but they won't be saved outside of the current session"
   ]
  },
  {
   "cell_type": "code",
   "execution_count": 2,
   "id": "291550b4",
   "metadata": {
    "execution": {
     "iopub.execute_input": "2024-08-13T16:45:32.271466Z",
     "iopub.status.busy": "2024-08-13T16:45:32.270844Z",
     "iopub.status.idle": "2024-08-13T16:45:32.278387Z",
     "shell.execute_reply": "2024-08-13T16:45:32.276862Z"
    },
    "papermill": {
     "duration": 0.025231,
     "end_time": "2024-08-13T16:45:32.280988",
     "exception": false,
     "start_time": "2024-08-13T16:45:32.255757",
     "status": "completed"
    },
    "tags": []
   },
   "outputs": [
    {
     "name": "stdout",
     "output_type": "stream",
     "text": [
      "Using cpu device\n"
     ]
    }
   ],
   "source": [
    "device = (\n",
    "    \"cuda\"\n",
    "    if torch.cuda.is_available()\n",
    "    else \"mps\"\n",
    "    if torch.backends.mps.is_available()\n",
    "    else \"cpu\"\n",
    ")\n",
    "print(f\"Using {device} device\")"
   ]
  },
  {
   "cell_type": "code",
   "execution_count": 3,
   "id": "f53c733b",
   "metadata": {
    "execution": {
     "iopub.execute_input": "2024-08-13T16:45:32.310066Z",
     "iopub.status.busy": "2024-08-13T16:45:32.309611Z",
     "iopub.status.idle": "2024-08-13T16:45:32.358965Z",
     "shell.execute_reply": "2024-08-13T16:45:32.357691Z"
    },
    "papermill": {
     "duration": 0.067224,
     "end_time": "2024-08-13T16:45:32.361803",
     "exception": false,
     "start_time": "2024-08-13T16:45:32.294579",
     "status": "completed"
    },
    "tags": []
   },
   "outputs": [
    {
     "data": {
      "text/html": [
       "<div>\n",
       "<style scoped>\n",
       "    .dataframe tbody tr th:only-of-type {\n",
       "        vertical-align: middle;\n",
       "    }\n",
       "\n",
       "    .dataframe tbody tr th {\n",
       "        vertical-align: top;\n",
       "    }\n",
       "\n",
       "    .dataframe thead th {\n",
       "        text-align: right;\n",
       "    }\n",
       "</style>\n",
       "<table border=\"1\" class=\"dataframe\">\n",
       "  <thead>\n",
       "    <tr style=\"text-align: right;\">\n",
       "      <th></th>\n",
       "      <th>PassengerId</th>\n",
       "      <th>Survived</th>\n",
       "      <th>Pclass</th>\n",
       "      <th>Name</th>\n",
       "      <th>Sex</th>\n",
       "      <th>Age</th>\n",
       "      <th>SibSp</th>\n",
       "      <th>Parch</th>\n",
       "      <th>Ticket</th>\n",
       "      <th>Fare</th>\n",
       "      <th>Cabin</th>\n",
       "      <th>Embarked</th>\n",
       "    </tr>\n",
       "  </thead>\n",
       "  <tbody>\n",
       "    <tr>\n",
       "      <th>0</th>\n",
       "      <td>1</td>\n",
       "      <td>0</td>\n",
       "      <td>3</td>\n",
       "      <td>Braund, Mr. Owen Harris</td>\n",
       "      <td>male</td>\n",
       "      <td>22.0</td>\n",
       "      <td>1</td>\n",
       "      <td>0</td>\n",
       "      <td>A/5 21171</td>\n",
       "      <td>7.2500</td>\n",
       "      <td>NaN</td>\n",
       "      <td>S</td>\n",
       "    </tr>\n",
       "    <tr>\n",
       "      <th>1</th>\n",
       "      <td>2</td>\n",
       "      <td>1</td>\n",
       "      <td>1</td>\n",
       "      <td>Cumings, Mrs. John Bradley (Florence Briggs Th...</td>\n",
       "      <td>female</td>\n",
       "      <td>38.0</td>\n",
       "      <td>1</td>\n",
       "      <td>0</td>\n",
       "      <td>PC 17599</td>\n",
       "      <td>71.2833</td>\n",
       "      <td>C85</td>\n",
       "      <td>C</td>\n",
       "    </tr>\n",
       "    <tr>\n",
       "      <th>2</th>\n",
       "      <td>3</td>\n",
       "      <td>1</td>\n",
       "      <td>3</td>\n",
       "      <td>Heikkinen, Miss. Laina</td>\n",
       "      <td>female</td>\n",
       "      <td>26.0</td>\n",
       "      <td>0</td>\n",
       "      <td>0</td>\n",
       "      <td>STON/O2. 3101282</td>\n",
       "      <td>7.9250</td>\n",
       "      <td>NaN</td>\n",
       "      <td>S</td>\n",
       "    </tr>\n",
       "    <tr>\n",
       "      <th>3</th>\n",
       "      <td>4</td>\n",
       "      <td>1</td>\n",
       "      <td>1</td>\n",
       "      <td>Futrelle, Mrs. Jacques Heath (Lily May Peel)</td>\n",
       "      <td>female</td>\n",
       "      <td>35.0</td>\n",
       "      <td>1</td>\n",
       "      <td>0</td>\n",
       "      <td>113803</td>\n",
       "      <td>53.1000</td>\n",
       "      <td>C123</td>\n",
       "      <td>S</td>\n",
       "    </tr>\n",
       "    <tr>\n",
       "      <th>4</th>\n",
       "      <td>5</td>\n",
       "      <td>0</td>\n",
       "      <td>3</td>\n",
       "      <td>Allen, Mr. William Henry</td>\n",
       "      <td>male</td>\n",
       "      <td>35.0</td>\n",
       "      <td>0</td>\n",
       "      <td>0</td>\n",
       "      <td>373450</td>\n",
       "      <td>8.0500</td>\n",
       "      <td>NaN</td>\n",
       "      <td>S</td>\n",
       "    </tr>\n",
       "  </tbody>\n",
       "</table>\n",
       "</div>"
      ],
      "text/plain": [
       "   PassengerId  Survived  Pclass  \\\n",
       "0            1         0       3   \n",
       "1            2         1       1   \n",
       "2            3         1       3   \n",
       "3            4         1       1   \n",
       "4            5         0       3   \n",
       "\n",
       "                                                Name     Sex   Age  SibSp  \\\n",
       "0                            Braund, Mr. Owen Harris    male  22.0      1   \n",
       "1  Cumings, Mrs. John Bradley (Florence Briggs Th...  female  38.0      1   \n",
       "2                             Heikkinen, Miss. Laina  female  26.0      0   \n",
       "3       Futrelle, Mrs. Jacques Heath (Lily May Peel)  female  35.0      1   \n",
       "4                           Allen, Mr. William Henry    male  35.0      0   \n",
       "\n",
       "   Parch            Ticket     Fare Cabin Embarked  \n",
       "0      0         A/5 21171   7.2500   NaN        S  \n",
       "1      0          PC 17599  71.2833   C85        C  \n",
       "2      0  STON/O2. 3101282   7.9250   NaN        S  \n",
       "3      0            113803  53.1000  C123        S  \n",
       "4      0            373450   8.0500   NaN        S  "
      ]
     },
     "execution_count": 3,
     "metadata": {},
     "output_type": "execute_result"
    }
   ],
   "source": [
    "train_data = pd.read_csv(\"/kaggle/input/titanic/train.csv\")\n",
    "train_data.head()"
   ]
  },
  {
   "cell_type": "code",
   "execution_count": 4,
   "id": "f3572b18",
   "metadata": {
    "execution": {
     "iopub.execute_input": "2024-08-13T16:45:32.391165Z",
     "iopub.status.busy": "2024-08-13T16:45:32.390722Z",
     "iopub.status.idle": "2024-08-13T16:45:32.421539Z",
     "shell.execute_reply": "2024-08-13T16:45:32.420054Z"
    },
    "papermill": {
     "duration": 0.049621,
     "end_time": "2024-08-13T16:45:32.424918",
     "exception": false,
     "start_time": "2024-08-13T16:45:32.375297",
     "status": "completed"
    },
    "tags": []
   },
   "outputs": [
    {
     "data": {
      "text/html": [
       "<div>\n",
       "<style scoped>\n",
       "    .dataframe tbody tr th:only-of-type {\n",
       "        vertical-align: middle;\n",
       "    }\n",
       "\n",
       "    .dataframe tbody tr th {\n",
       "        vertical-align: top;\n",
       "    }\n",
       "\n",
       "    .dataframe thead th {\n",
       "        text-align: right;\n",
       "    }\n",
       "</style>\n",
       "<table border=\"1\" class=\"dataframe\">\n",
       "  <thead>\n",
       "    <tr style=\"text-align: right;\">\n",
       "      <th></th>\n",
       "      <th>PassengerId</th>\n",
       "      <th>Pclass</th>\n",
       "      <th>Name</th>\n",
       "      <th>Sex</th>\n",
       "      <th>Age</th>\n",
       "      <th>SibSp</th>\n",
       "      <th>Parch</th>\n",
       "      <th>Ticket</th>\n",
       "      <th>Fare</th>\n",
       "      <th>Cabin</th>\n",
       "      <th>Embarked</th>\n",
       "    </tr>\n",
       "  </thead>\n",
       "  <tbody>\n",
       "    <tr>\n",
       "      <th>0</th>\n",
       "      <td>892</td>\n",
       "      <td>3</td>\n",
       "      <td>Kelly, Mr. James</td>\n",
       "      <td>male</td>\n",
       "      <td>34.5</td>\n",
       "      <td>0</td>\n",
       "      <td>0</td>\n",
       "      <td>330911</td>\n",
       "      <td>7.8292</td>\n",
       "      <td>NaN</td>\n",
       "      <td>Q</td>\n",
       "    </tr>\n",
       "    <tr>\n",
       "      <th>1</th>\n",
       "      <td>893</td>\n",
       "      <td>3</td>\n",
       "      <td>Wilkes, Mrs. James (Ellen Needs)</td>\n",
       "      <td>female</td>\n",
       "      <td>47.0</td>\n",
       "      <td>1</td>\n",
       "      <td>0</td>\n",
       "      <td>363272</td>\n",
       "      <td>7.0000</td>\n",
       "      <td>NaN</td>\n",
       "      <td>S</td>\n",
       "    </tr>\n",
       "    <tr>\n",
       "      <th>2</th>\n",
       "      <td>894</td>\n",
       "      <td>2</td>\n",
       "      <td>Myles, Mr. Thomas Francis</td>\n",
       "      <td>male</td>\n",
       "      <td>62.0</td>\n",
       "      <td>0</td>\n",
       "      <td>0</td>\n",
       "      <td>240276</td>\n",
       "      <td>9.6875</td>\n",
       "      <td>NaN</td>\n",
       "      <td>Q</td>\n",
       "    </tr>\n",
       "    <tr>\n",
       "      <th>3</th>\n",
       "      <td>895</td>\n",
       "      <td>3</td>\n",
       "      <td>Wirz, Mr. Albert</td>\n",
       "      <td>male</td>\n",
       "      <td>27.0</td>\n",
       "      <td>0</td>\n",
       "      <td>0</td>\n",
       "      <td>315154</td>\n",
       "      <td>8.6625</td>\n",
       "      <td>NaN</td>\n",
       "      <td>S</td>\n",
       "    </tr>\n",
       "    <tr>\n",
       "      <th>4</th>\n",
       "      <td>896</td>\n",
       "      <td>3</td>\n",
       "      <td>Hirvonen, Mrs. Alexander (Helga E Lindqvist)</td>\n",
       "      <td>female</td>\n",
       "      <td>22.0</td>\n",
       "      <td>1</td>\n",
       "      <td>1</td>\n",
       "      <td>3101298</td>\n",
       "      <td>12.2875</td>\n",
       "      <td>NaN</td>\n",
       "      <td>S</td>\n",
       "    </tr>\n",
       "  </tbody>\n",
       "</table>\n",
       "</div>"
      ],
      "text/plain": [
       "   PassengerId  Pclass                                          Name     Sex  \\\n",
       "0          892       3                              Kelly, Mr. James    male   \n",
       "1          893       3              Wilkes, Mrs. James (Ellen Needs)  female   \n",
       "2          894       2                     Myles, Mr. Thomas Francis    male   \n",
       "3          895       3                              Wirz, Mr. Albert    male   \n",
       "4          896       3  Hirvonen, Mrs. Alexander (Helga E Lindqvist)  female   \n",
       "\n",
       "    Age  SibSp  Parch   Ticket     Fare Cabin Embarked  \n",
       "0  34.5      0      0   330911   7.8292   NaN        Q  \n",
       "1  47.0      1      0   363272   7.0000   NaN        S  \n",
       "2  62.0      0      0   240276   9.6875   NaN        Q  \n",
       "3  27.0      0      0   315154   8.6625   NaN        S  \n",
       "4  22.0      1      1  3101298  12.2875   NaN        S  "
      ]
     },
     "execution_count": 4,
     "metadata": {},
     "output_type": "execute_result"
    }
   ],
   "source": [
    "test_data = pd.read_csv(\"/kaggle/input/titanic/test.csv\")\n",
    "test_data.head()"
   ]
  },
  {
   "cell_type": "code",
   "execution_count": 5,
   "id": "297150fb",
   "metadata": {
    "execution": {
     "iopub.execute_input": "2024-08-13T16:45:32.456640Z",
     "iopub.status.busy": "2024-08-13T16:45:32.456193Z",
     "iopub.status.idle": "2024-08-13T16:45:32.486917Z",
     "shell.execute_reply": "2024-08-13T16:45:32.485487Z"
    },
    "papermill": {
     "duration": 0.049081,
     "end_time": "2024-08-13T16:45:32.489794",
     "exception": false,
     "start_time": "2024-08-13T16:45:32.440713",
     "status": "completed"
    },
    "tags": []
   },
   "outputs": [
    {
     "data": {
      "text/html": [
       "<div>\n",
       "<style scoped>\n",
       "    .dataframe tbody tr th:only-of-type {\n",
       "        vertical-align: middle;\n",
       "    }\n",
       "\n",
       "    .dataframe tbody tr th {\n",
       "        vertical-align: top;\n",
       "    }\n",
       "\n",
       "    .dataframe thead th {\n",
       "        text-align: right;\n",
       "    }\n",
       "</style>\n",
       "<table border=\"1\" class=\"dataframe\">\n",
       "  <thead>\n",
       "    <tr style=\"text-align: right;\">\n",
       "      <th></th>\n",
       "      <th>PassengerId</th>\n",
       "      <th>Survived</th>\n",
       "      <th>Pclass</th>\n",
       "      <th>Name</th>\n",
       "      <th>Sex</th>\n",
       "      <th>Age</th>\n",
       "      <th>SibSp</th>\n",
       "      <th>Parch</th>\n",
       "      <th>Ticket</th>\n",
       "      <th>Fare</th>\n",
       "      <th>Cabin</th>\n",
       "      <th>Embarked</th>\n",
       "    </tr>\n",
       "  </thead>\n",
       "  <tbody>\n",
       "  </tbody>\n",
       "</table>\n",
       "</div>"
      ],
      "text/plain": [
       "Empty DataFrame\n",
       "Columns: [PassengerId, Survived, Pclass, Name, Sex, Age, SibSp, Parch, Ticket, Fare, Cabin, Embarked]\n",
       "Index: []"
      ]
     },
     "execution_count": 5,
     "metadata": {},
     "output_type": "execute_result"
    }
   ],
   "source": [
    "train_data[train_data.duplicated()]"
   ]
  },
  {
   "cell_type": "code",
   "execution_count": 6,
   "id": "4865ac06",
   "metadata": {
    "execution": {
     "iopub.execute_input": "2024-08-13T16:45:32.521139Z",
     "iopub.status.busy": "2024-08-13T16:45:32.520663Z",
     "iopub.status.idle": "2024-08-13T16:45:32.541989Z",
     "shell.execute_reply": "2024-08-13T16:45:32.540577Z"
    },
    "papermill": {
     "duration": 0.040994,
     "end_time": "2024-08-13T16:45:32.545251",
     "exception": false,
     "start_time": "2024-08-13T16:45:32.504257",
     "status": "completed"
    },
    "tags": []
   },
   "outputs": [],
   "source": [
    "train_data['have_Cabin'] = train_data['Cabin'].apply(lambda x: 0 if pd.isnull(x) else 1)\n",
    "train_data['nbr_Cabin'] = train_data['Cabin'].apply(lambda x: 0 if pd.isnull(x) else len(x.split(' ')))\n",
    "train_data['SibSp_Parch'] = train_data['Parch']+train_data['SibSp']\n",
    "\n",
    "test_data['have_Cabin'] = test_data['Cabin'].apply(lambda x: 0 if pd.isnull(x) else 1)\n",
    "test_data['nbr_Cabin'] = test_data['Cabin'].apply(lambda x: 0 if pd.isnull(x) else len(x.split(' ')))\n",
    "test_data['SibSp_Parch'] = test_data['Parch']+test_data['SibSp']"
   ]
  },
  {
   "cell_type": "code",
   "execution_count": 7,
   "id": "e4e1cbbf",
   "metadata": {
    "execution": {
     "iopub.execute_input": "2024-08-13T16:45:32.577611Z",
     "iopub.status.busy": "2024-08-13T16:45:32.577201Z",
     "iopub.status.idle": "2024-08-13T16:45:32.603536Z",
     "shell.execute_reply": "2024-08-13T16:45:32.601940Z"
    },
    "papermill": {
     "duration": 0.046323,
     "end_time": "2024-08-13T16:45:32.606607",
     "exception": false,
     "start_time": "2024-08-13T16:45:32.560284",
     "status": "completed"
    },
    "tags": []
   },
   "outputs": [],
   "source": [
    "train_data_dummies = pd.get_dummies(train_data, columns=['Pclass', 'Sex', 'Embarked'], drop_first = True)\n",
    "test_data_dummies = pd.get_dummies(test_data, columns=['Pclass', 'Sex', 'Embarked'], drop_first = True)"
   ]
  },
  {
   "cell_type": "code",
   "execution_count": 8,
   "id": "aa52adbe",
   "metadata": {
    "execution": {
     "iopub.execute_input": "2024-08-13T16:45:32.640020Z",
     "iopub.status.busy": "2024-08-13T16:45:32.639569Z",
     "iopub.status.idle": "2024-08-13T16:45:32.648562Z",
     "shell.execute_reply": "2024-08-13T16:45:32.647103Z"
    },
    "papermill": {
     "duration": 0.030494,
     "end_time": "2024-08-13T16:45:32.651317",
     "exception": false,
     "start_time": "2024-08-13T16:45:32.620823",
     "status": "completed"
    },
    "tags": []
   },
   "outputs": [
    {
     "data": {
      "text/plain": [
       "Index(['PassengerId', 'Survived', 'Name', 'Age', 'SibSp', 'Parch', 'Ticket',\n",
       "       'Fare', 'Cabin', 'have_Cabin', 'nbr_Cabin', 'SibSp_Parch', 'Pclass_2',\n",
       "       'Pclass_3', 'Sex_male', 'Embarked_Q', 'Embarked_S'],\n",
       "      dtype='object')"
      ]
     },
     "execution_count": 8,
     "metadata": {},
     "output_type": "execute_result"
    }
   ],
   "source": [
    "train_data_dummies.columns"
   ]
  },
  {
   "cell_type": "code",
   "execution_count": 9,
   "id": "96b772cd",
   "metadata": {
    "execution": {
     "iopub.execute_input": "2024-08-13T16:45:32.682503Z",
     "iopub.status.busy": "2024-08-13T16:45:32.682088Z",
     "iopub.status.idle": "2024-08-13T16:45:32.690185Z",
     "shell.execute_reply": "2024-08-13T16:45:32.688797Z"
    },
    "papermill": {
     "duration": 0.027212,
     "end_time": "2024-08-13T16:45:32.693095",
     "exception": false,
     "start_time": "2024-08-13T16:45:32.665883",
     "status": "completed"
    },
    "tags": []
   },
   "outputs": [],
   "source": [
    "test_data_dummies.loc[pd.isnull(test_data_dummies['Fare']), 'Fare'] = np.mean(train_data_dummies['Fare'])"
   ]
  },
  {
   "cell_type": "markdown",
   "id": "bdf904ea",
   "metadata": {
    "papermill": {
     "duration": 0.015579,
     "end_time": "2024-08-13T16:45:32.723458",
     "exception": false,
     "start_time": "2024-08-13T16:45:32.707879",
     "status": "completed"
    },
    "tags": []
   },
   "source": [
    "# Input data for Age"
   ]
  },
  {
   "cell_type": "code",
   "execution_count": 10,
   "id": "bcce751d",
   "metadata": {
    "execution": {
     "iopub.execute_input": "2024-08-13T16:45:32.754864Z",
     "iopub.status.busy": "2024-08-13T16:45:32.754410Z",
     "iopub.status.idle": "2024-08-13T16:45:32.774096Z",
     "shell.execute_reply": "2024-08-13T16:45:32.772767Z"
    },
    "papermill": {
     "duration": 0.038543,
     "end_time": "2024-08-13T16:45:32.777169",
     "exception": false,
     "start_time": "2024-08-13T16:45:32.738626",
     "status": "completed"
    },
    "tags": []
   },
   "outputs": [],
   "source": [
    "train_age = train_data_dummies[~pd.isnull(train_data_dummies['Age'])].drop(columns=['Survived', 'PassengerId', 'Name', 'Ticket', 'Cabin'], axis=1)\n",
    "test_age = test_data_dummies[~pd.isnull(test_data_dummies['Age'])].drop(columns=['PassengerId', 'Name', 'Ticket', 'Cabin'], axis=1)\n",
    "\n",
    "X_train_age, X_test_age, y_train_age, y_test_age = train_test_split(train_age.drop(columns='Age', axis=1), train_age['Age'], test_size=0.2, random_state=0)\n",
    "\n"
   ]
  },
  {
   "cell_type": "code",
   "execution_count": 11,
   "id": "337b050d",
   "metadata": {
    "execution": {
     "iopub.execute_input": "2024-08-13T16:45:32.808160Z",
     "iopub.status.busy": "2024-08-13T16:45:32.807696Z",
     "iopub.status.idle": "2024-08-13T16:45:33.138286Z",
     "shell.execute_reply": "2024-08-13T16:45:33.136655Z"
    },
    "papermill": {
     "duration": 0.35014,
     "end_time": "2024-08-13T16:45:33.141622",
     "exception": false,
     "start_time": "2024-08-13T16:45:32.791482",
     "status": "completed"
    },
    "tags": []
   },
   "outputs": [],
   "source": [
    "model = LinearRegression()\n",
    "\n",
    "model.fit(X_train_age, y_train_age)\n",
    "\n",
    "rfr = RandomForestRegressor()\n",
    "\n",
    "rfr.fit(X_train_age, y_train_age)\n",
    "\n",
    "# Make predictions on the test data\n",
    "y_pred = model.predict(X_test_age)\n",
    "\n",
    "# Evaluate the model\n",
    "mse = mean_squared_error(y_test_age, y_pred)\n",
    "r2 = r2_score(y_test_age, y_pred)"
   ]
  },
  {
   "cell_type": "code",
   "execution_count": 12,
   "id": "4eadb482",
   "metadata": {
    "execution": {
     "iopub.execute_input": "2024-08-13T16:45:33.174351Z",
     "iopub.status.busy": "2024-08-13T16:45:33.173901Z",
     "iopub.status.idle": "2024-08-13T16:45:33.182308Z",
     "shell.execute_reply": "2024-08-13T16:45:33.181063Z"
    },
    "papermill": {
     "duration": 0.028096,
     "end_time": "2024-08-13T16:45:33.185187",
     "exception": false,
     "start_time": "2024-08-13T16:45:33.157091",
     "status": "completed"
    },
    "tags": []
   },
   "outputs": [
    {
     "data": {
      "text/plain": [
       "0.2485550682269736"
      ]
     },
     "execution_count": 12,
     "metadata": {},
     "output_type": "execute_result"
    }
   ],
   "source": [
    "r2"
   ]
  },
  {
   "cell_type": "code",
   "execution_count": 13,
   "id": "05b64c10",
   "metadata": {
    "execution": {
     "iopub.execute_input": "2024-08-13T16:45:33.215608Z",
     "iopub.status.busy": "2024-08-13T16:45:33.215210Z",
     "iopub.status.idle": "2024-08-13T16:45:33.220953Z",
     "shell.execute_reply": "2024-08-13T16:45:33.219457Z"
    },
    "papermill": {
     "duration": 0.024592,
     "end_time": "2024-08-13T16:45:33.223992",
     "exception": false,
     "start_time": "2024-08-13T16:45:33.199400",
     "status": "completed"
    },
    "tags": []
   },
   "outputs": [],
   "source": [
    "importance = model.coef_"
   ]
  },
  {
   "cell_type": "code",
   "execution_count": 14,
   "id": "0e679da3",
   "metadata": {
    "execution": {
     "iopub.execute_input": "2024-08-13T16:45:33.255441Z",
     "iopub.status.busy": "2024-08-13T16:45:33.254654Z",
     "iopub.status.idle": "2024-08-13T16:45:33.262955Z",
     "shell.execute_reply": "2024-08-13T16:45:33.261747Z"
    },
    "papermill": {
     "duration": 0.027305,
     "end_time": "2024-08-13T16:45:33.265571",
     "exception": false,
     "start_time": "2024-08-13T16:45:33.238266",
     "status": "completed"
    },
    "tags": []
   },
   "outputs": [
    {
     "data": {
      "text/plain": [
       "Index(['Age', 'SibSp', 'Parch', 'Fare', 'have_Cabin', 'nbr_Cabin',\n",
       "       'SibSp_Parch', 'Pclass_2', 'Pclass_3', 'Sex_male', 'Embarked_Q',\n",
       "       'Embarked_S'],\n",
       "      dtype='object')"
      ]
     },
     "execution_count": 14,
     "metadata": {},
     "output_type": "execute_result"
    }
   ],
   "source": [
    "train_age.columns"
   ]
  },
  {
   "cell_type": "code",
   "execution_count": 15,
   "id": "85fe7259",
   "metadata": {
    "execution": {
     "iopub.execute_input": "2024-08-13T16:45:33.297404Z",
     "iopub.status.busy": "2024-08-13T16:45:33.297007Z",
     "iopub.status.idle": "2024-08-13T16:45:33.306545Z",
     "shell.execute_reply": "2024-08-13T16:45:33.305181Z"
    },
    "papermill": {
     "duration": 0.028723,
     "end_time": "2024-08-13T16:45:33.309080",
     "exception": false,
     "start_time": "2024-08-13T16:45:33.280357",
     "status": "completed"
    },
    "tags": []
   },
   "outputs": [],
   "source": [
    "names = ['SibSp', 'Parch', 'Fare', 'have_Cabin', 'nbr_Cabin',\n",
    "       'SibSp_Parch', 'Pclass_2', 'Pclass_3', 'Sex_male', 'Embarked_Q',\n",
    "       'Embarked_S']\n",
    "\n",
    "feature_imp = pd.DataFrame({'features': names, 'importance': importance}).sort_values('importance', ascending=False)"
   ]
  },
  {
   "cell_type": "code",
   "execution_count": 16,
   "id": "13f827d9",
   "metadata": {
    "execution": {
     "iopub.execute_input": "2024-08-13T16:45:33.339609Z",
     "iopub.status.busy": "2024-08-13T16:45:33.339193Z",
     "iopub.status.idle": "2024-08-13T16:45:33.352711Z",
     "shell.execute_reply": "2024-08-13T16:45:33.351352Z"
    },
    "papermill": {
     "duration": 0.032223,
     "end_time": "2024-08-13T16:45:33.355573",
     "exception": false,
     "start_time": "2024-08-13T16:45:33.323350",
     "status": "completed"
    },
    "tags": []
   },
   "outputs": [
    {
     "data": {
      "text/html": [
       "<div>\n",
       "<style scoped>\n",
       "    .dataframe tbody tr th:only-of-type {\n",
       "        vertical-align: middle;\n",
       "    }\n",
       "\n",
       "    .dataframe tbody tr th {\n",
       "        vertical-align: top;\n",
       "    }\n",
       "\n",
       "    .dataframe thead th {\n",
       "        text-align: right;\n",
       "    }\n",
       "</style>\n",
       "<table border=\"1\" class=\"dataframe\">\n",
       "  <thead>\n",
       "    <tr style=\"text-align: right;\">\n",
       "      <th></th>\n",
       "      <th>features</th>\n",
       "      <th>importance</th>\n",
       "    </tr>\n",
       "  </thead>\n",
       "  <tbody>\n",
       "    <tr>\n",
       "      <th>9</th>\n",
       "      <td>Embarked_Q</td>\n",
       "      <td>3.925330</td>\n",
       "    </tr>\n",
       "    <tr>\n",
       "      <th>8</th>\n",
       "      <td>Sex_male</td>\n",
       "      <td>3.160375</td>\n",
       "    </tr>\n",
       "    <tr>\n",
       "      <th>10</th>\n",
       "      <td>Embarked_S</td>\n",
       "      <td>2.672139</td>\n",
       "    </tr>\n",
       "    <tr>\n",
       "      <th>1</th>\n",
       "      <td>Parch</td>\n",
       "      <td>0.943277</td>\n",
       "    </tr>\n",
       "    <tr>\n",
       "      <th>2</th>\n",
       "      <td>Fare</td>\n",
       "      <td>-0.020020</td>\n",
       "    </tr>\n",
       "    <tr>\n",
       "      <th>5</th>\n",
       "      <td>SibSp_Parch</td>\n",
       "      <td>-1.384528</td>\n",
       "    </tr>\n",
       "    <tr>\n",
       "      <th>4</th>\n",
       "      <td>nbr_Cabin</td>\n",
       "      <td>-1.932044</td>\n",
       "    </tr>\n",
       "    <tr>\n",
       "      <th>0</th>\n",
       "      <td>SibSp</td>\n",
       "      <td>-2.327805</td>\n",
       "    </tr>\n",
       "    <tr>\n",
       "      <th>3</th>\n",
       "      <td>have_Cabin</td>\n",
       "      <td>-3.335903</td>\n",
       "    </tr>\n",
       "    <tr>\n",
       "      <th>6</th>\n",
       "      <td>Pclass_2</td>\n",
       "      <td>-15.951190</td>\n",
       "    </tr>\n",
       "    <tr>\n",
       "      <th>7</th>\n",
       "      <td>Pclass_3</td>\n",
       "      <td>-20.183877</td>\n",
       "    </tr>\n",
       "  </tbody>\n",
       "</table>\n",
       "</div>"
      ],
      "text/plain": [
       "       features  importance\n",
       "9    Embarked_Q    3.925330\n",
       "8      Sex_male    3.160375\n",
       "10   Embarked_S    2.672139\n",
       "1         Parch    0.943277\n",
       "2          Fare   -0.020020\n",
       "5   SibSp_Parch   -1.384528\n",
       "4     nbr_Cabin   -1.932044\n",
       "0         SibSp   -2.327805\n",
       "3    have_Cabin   -3.335903\n",
       "6      Pclass_2  -15.951190\n",
       "7      Pclass_3  -20.183877"
      ]
     },
     "execution_count": 16,
     "metadata": {},
     "output_type": "execute_result"
    }
   ],
   "source": [
    "feature_imp"
   ]
  },
  {
   "cell_type": "code",
   "execution_count": 17,
   "id": "d0ba30af",
   "metadata": {
    "execution": {
     "iopub.execute_input": "2024-08-13T16:45:33.387576Z",
     "iopub.status.busy": "2024-08-13T16:45:33.387163Z",
     "iopub.status.idle": "2024-08-13T16:45:33.397249Z",
     "shell.execute_reply": "2024-08-13T16:45:33.395782Z"
    },
    "papermill": {
     "duration": 0.0288,
     "end_time": "2024-08-13T16:45:33.399690",
     "exception": false,
     "start_time": "2024-08-13T16:45:33.370890",
     "status": "completed"
    },
    "tags": []
   },
   "outputs": [],
   "source": [
    "train_age_imputation = train_data_dummies[pd.isnull(train_data_dummies['Age'])].drop(columns=['Survived', 'Age', 'PassengerId', 'Name', 'Ticket', 'Cabin'], axis=1)\n",
    "test_age_imputation = test_data_dummies[pd.isnull(test_data_dummies['Age'])].drop(columns=['Age', 'PassengerId', 'Name', 'Ticket', 'Cabin'], axis=1)"
   ]
  },
  {
   "cell_type": "code",
   "execution_count": 18,
   "id": "0ee70858",
   "metadata": {
    "execution": {
     "iopub.execute_input": "2024-08-13T16:45:33.432138Z",
     "iopub.status.busy": "2024-08-13T16:45:33.431428Z",
     "iopub.status.idle": "2024-08-13T16:45:33.443741Z",
     "shell.execute_reply": "2024-08-13T16:45:33.442211Z"
    },
    "papermill": {
     "duration": 0.032037,
     "end_time": "2024-08-13T16:45:33.446860",
     "exception": false,
     "start_time": "2024-08-13T16:45:33.414823",
     "status": "completed"
    },
    "tags": []
   },
   "outputs": [],
   "source": [
    "train_age_predict = model.predict(train_age_imputation)\n",
    "test_age_predict = model.predict(test_age_imputation)"
   ]
  },
  {
   "cell_type": "code",
   "execution_count": 19,
   "id": "3d411ac3",
   "metadata": {
    "execution": {
     "iopub.execute_input": "2024-08-13T16:45:33.481104Z",
     "iopub.status.busy": "2024-08-13T16:45:33.480644Z",
     "iopub.status.idle": "2024-08-13T16:45:33.490319Z",
     "shell.execute_reply": "2024-08-13T16:45:33.488931Z"
    },
    "papermill": {
     "duration": 0.030558,
     "end_time": "2024-08-13T16:45:33.493309",
     "exception": false,
     "start_time": "2024-08-13T16:45:33.462751",
     "status": "completed"
    },
    "tags": []
   },
   "outputs": [],
   "source": [
    "train_data_dummies.loc[pd.isnull(train_data_dummies['Age']), 'Age'] = train_age_predict\n",
    "test_data_dummies.loc[pd.isnull(test_data_dummies['Age']), 'Age'] = test_age_predict"
   ]
  },
  {
   "cell_type": "code",
   "execution_count": 20,
   "id": "2530b6d0",
   "metadata": {
    "execution": {
     "iopub.execute_input": "2024-08-13T16:45:33.525857Z",
     "iopub.status.busy": "2024-08-13T16:45:33.525379Z",
     "iopub.status.idle": "2024-08-13T16:45:33.534757Z",
     "shell.execute_reply": "2024-08-13T16:45:33.533433Z"
    },
    "papermill": {
     "duration": 0.029112,
     "end_time": "2024-08-13T16:45:33.537597",
     "exception": false,
     "start_time": "2024-08-13T16:45:33.508485",
     "status": "completed"
    },
    "tags": []
   },
   "outputs": [
    {
     "data": {
      "text/plain": [
       "Index(['PassengerId', 'Name', 'Age', 'SibSp', 'Parch', 'Ticket', 'Fare',\n",
       "       'Cabin', 'have_Cabin', 'nbr_Cabin', 'SibSp_Parch', 'Pclass_2',\n",
       "       'Pclass_3', 'Sex_male', 'Embarked_Q', 'Embarked_S'],\n",
       "      dtype='object')"
      ]
     },
     "execution_count": 20,
     "metadata": {},
     "output_type": "execute_result"
    }
   ],
   "source": [
    "test_data_dummies.columns"
   ]
  },
  {
   "cell_type": "code",
   "execution_count": 21,
   "id": "253b433f",
   "metadata": {
    "execution": {
     "iopub.execute_input": "2024-08-13T16:45:33.571535Z",
     "iopub.status.busy": "2024-08-13T16:45:33.571143Z",
     "iopub.status.idle": "2024-08-13T16:45:33.582367Z",
     "shell.execute_reply": "2024-08-13T16:45:33.580919Z"
    },
    "papermill": {
     "duration": 0.032043,
     "end_time": "2024-08-13T16:45:33.585796",
     "exception": false,
     "start_time": "2024-08-13T16:45:33.553753",
     "status": "completed"
    },
    "tags": []
   },
   "outputs": [],
   "source": [
    "# Divdie into train and validation set\n",
    "\n",
    "X = train_data_dummies[['Fare', 'SibSp_Parch', 'Age', 'Sex_male']]\n",
    "\n",
    "y = train_data_dummies['Survived']\n",
    "\n",
    "X_train, X_test, y_train, y_test = train_test_split(X, y, test_size=0.2, random_state=42)"
   ]
  },
  {
   "cell_type": "code",
   "execution_count": 22,
   "id": "c2db990e",
   "metadata": {
    "execution": {
     "iopub.execute_input": "2024-08-13T16:45:33.617432Z",
     "iopub.status.busy": "2024-08-13T16:45:33.617024Z",
     "iopub.status.idle": "2024-08-13T16:45:33.634391Z",
     "shell.execute_reply": "2024-08-13T16:45:33.632960Z"
    },
    "papermill": {
     "duration": 0.036705,
     "end_time": "2024-08-13T16:45:33.637332",
     "exception": false,
     "start_time": "2024-08-13T16:45:33.600627",
     "status": "completed"
    },
    "tags": []
   },
   "outputs": [],
   "source": [
    "scaler = StandardScaler()\n",
    "X_train = scaler.fit_transform(X_train)\n",
    "X_test = scaler.transform(X_test)"
   ]
  },
  {
   "cell_type": "markdown",
   "id": "104e2264",
   "metadata": {
    "papermill": {
     "duration": 0.015079,
     "end_time": "2024-08-13T16:45:33.667818",
     "exception": false,
     "start_time": "2024-08-13T16:45:33.652739",
     "status": "completed"
    },
    "tags": []
   },
   "source": [
    "# Random Forest"
   ]
  },
  {
   "cell_type": "code",
   "execution_count": 23,
   "id": "1285879d",
   "metadata": {
    "execution": {
     "iopub.execute_input": "2024-08-13T16:45:33.699793Z",
     "iopub.status.busy": "2024-08-13T16:45:33.699372Z",
     "iopub.status.idle": "2024-08-13T16:45:34.020312Z",
     "shell.execute_reply": "2024-08-13T16:45:34.018848Z"
    },
    "papermill": {
     "duration": 0.340429,
     "end_time": "2024-08-13T16:45:34.023346",
     "exception": false,
     "start_time": "2024-08-13T16:45:33.682917",
     "status": "completed"
    },
    "tags": []
   },
   "outputs": [
    {
     "name": "stdout",
     "output_type": "stream",
     "text": [
      "Accuracy: 0.84\n"
     ]
    }
   ],
   "source": [
    "clf = RandomForestClassifier(random_state=42)\n",
    "\n",
    "# Train the model\n",
    "clf.fit(X_train, y_train)\n",
    "\n",
    "y_pred = clf.predict(X_test)\n",
    "\n",
    "# Evaluate the model\n",
    "accuracy = accuracy_score(y_test, y_pred)\n",
    "print(f\"Accuracy: {accuracy:.2f}\")"
   ]
  },
  {
   "cell_type": "code",
   "execution_count": 24,
   "id": "2a25d945",
   "metadata": {
    "execution": {
     "iopub.execute_input": "2024-08-13T16:45:34.056752Z",
     "iopub.status.busy": "2024-08-13T16:45:34.056348Z",
     "iopub.status.idle": "2024-08-13T16:45:34.065244Z",
     "shell.execute_reply": "2024-08-13T16:45:34.063933Z"
    },
    "papermill": {
     "duration": 0.028748,
     "end_time": "2024-08-13T16:45:34.068024",
     "exception": false,
     "start_time": "2024-08-13T16:45:34.039276",
     "status": "completed"
    },
    "tags": []
   },
   "outputs": [
    {
     "data": {
      "text/plain": [
       "Index(['Fare', 'SibSp_Parch', 'Age', 'Sex_male'], dtype='object')"
      ]
     },
     "execution_count": 24,
     "metadata": {},
     "output_type": "execute_result"
    }
   ],
   "source": [
    "X.columns"
   ]
  },
  {
   "cell_type": "code",
   "execution_count": 25,
   "id": "6940c6ac",
   "metadata": {
    "execution": {
     "iopub.execute_input": "2024-08-13T16:45:34.100879Z",
     "iopub.status.busy": "2024-08-13T16:45:34.100404Z",
     "iopub.status.idle": "2024-08-13T16:45:34.122231Z",
     "shell.execute_reply": "2024-08-13T16:45:34.120925Z"
    },
    "papermill": {
     "duration": 0.041769,
     "end_time": "2024-08-13T16:45:34.125043",
     "exception": false,
     "start_time": "2024-08-13T16:45:34.083274",
     "status": "completed"
    },
    "tags": []
   },
   "outputs": [
    {
     "data": {
      "text/plain": [
       "array([0.32955213, 0.10330318, 0.2995066 , 0.26763808])"
      ]
     },
     "execution_count": 25,
     "metadata": {},
     "output_type": "execute_result"
    }
   ],
   "source": [
    "clf.feature_importances_"
   ]
  },
  {
   "cell_type": "markdown",
   "id": "d85a5151",
   "metadata": {
    "papermill": {
     "duration": 0.015162,
     "end_time": "2024-08-13T16:45:34.155646",
     "exception": false,
     "start_time": "2024-08-13T16:45:34.140484",
     "status": "completed"
    },
    "tags": []
   },
   "source": [
    "# XGBOOST"
   ]
  },
  {
   "cell_type": "code",
   "execution_count": 26,
   "id": "6907f6cc",
   "metadata": {
    "execution": {
     "iopub.execute_input": "2024-08-13T16:45:34.191117Z",
     "iopub.status.busy": "2024-08-13T16:45:34.190654Z",
     "iopub.status.idle": "2024-08-13T16:45:34.309050Z",
     "shell.execute_reply": "2024-08-13T16:45:34.307357Z"
    },
    "papermill": {
     "duration": 0.139722,
     "end_time": "2024-08-13T16:45:34.311794",
     "exception": false,
     "start_time": "2024-08-13T16:45:34.172072",
     "status": "completed"
    },
    "tags": []
   },
   "outputs": [
    {
     "name": "stdout",
     "output_type": "stream",
     "text": [
      "Accuracy: 0.82\n"
     ]
    }
   ],
   "source": [
    "xgb = XGBClassifier(random_state=42)\n",
    "\n",
    "# Train the model\n",
    "xgb.fit(X_train, y_train)\n",
    "\n",
    "y_pred = xgb.predict(X_test)\n",
    "\n",
    "# Evaluate the model\n",
    "accuracy = accuracy_score(y_test, y_pred)\n",
    "print(f\"Accuracy: {accuracy:.2f}\")"
   ]
  },
  {
   "cell_type": "markdown",
   "id": "b11c97a1",
   "metadata": {
    "papermill": {
     "duration": 0.014964,
     "end_time": "2024-08-13T16:45:34.343274",
     "exception": false,
     "start_time": "2024-08-13T16:45:34.328310",
     "status": "completed"
    },
    "tags": []
   },
   "source": [
    "# Neural Network"
   ]
  },
  {
   "cell_type": "code",
   "execution_count": 27,
   "id": "9093d38d",
   "metadata": {
    "execution": {
     "iopub.execute_input": "2024-08-13T16:45:34.376295Z",
     "iopub.status.busy": "2024-08-13T16:45:34.375862Z",
     "iopub.status.idle": "2024-08-13T16:45:34.385439Z",
     "shell.execute_reply": "2024-08-13T16:45:34.384060Z"
    },
    "papermill": {
     "duration": 0.029275,
     "end_time": "2024-08-13T16:45:34.388379",
     "exception": false,
     "start_time": "2024-08-13T16:45:34.359104",
     "status": "completed"
    },
    "tags": []
   },
   "outputs": [],
   "source": [
    "class NeuralNetwork(nn.Module):\n",
    "    def __init__(self):\n",
    "        super().__init__()\n",
    "        self.model = nn.Sequential(\n",
    "            nn.Linear(4, 128),\n",
    "            nn.ReLU(),\n",
    "            nn.Linear(128, 256),\n",
    "            nn.ReLU(),\n",
    "            nn.Linear(256, 128),\n",
    "            nn.ReLU(),\n",
    "            nn.Linear(128, 64),\n",
    "            nn.ReLU(),\n",
    "            nn.Linear(64, 32),\n",
    "            nn.ReLU(),\n",
    "            nn.Linear(32, 1)\n",
    "        )\n",
    "\n",
    "    def forward(self, x):\n",
    "        logits = self.model(x)\n",
    "        return logits"
   ]
  },
  {
   "cell_type": "code",
   "execution_count": 28,
   "id": "42a2ca0e",
   "metadata": {
    "execution": {
     "iopub.execute_input": "2024-08-13T16:45:34.422596Z",
     "iopub.status.busy": "2024-08-13T16:45:34.422195Z",
     "iopub.status.idle": "2024-08-13T16:45:34.479143Z",
     "shell.execute_reply": "2024-08-13T16:45:34.477833Z"
    },
    "papermill": {
     "duration": 0.078016,
     "end_time": "2024-08-13T16:45:34.482345",
     "exception": false,
     "start_time": "2024-08-13T16:45:34.404329",
     "status": "completed"
    },
    "tags": []
   },
   "outputs": [],
   "source": [
    "model_0 = NeuralNetwork().to(device)"
   ]
  },
  {
   "cell_type": "code",
   "execution_count": 29,
   "id": "4aa7ced4",
   "metadata": {
    "execution": {
     "iopub.execute_input": "2024-08-13T16:45:34.515967Z",
     "iopub.status.busy": "2024-08-13T16:45:34.515495Z",
     "iopub.status.idle": "2024-08-13T16:45:34.540543Z",
     "shell.execute_reply": "2024-08-13T16:45:34.539158Z"
    },
    "papermill": {
     "duration": 0.045783,
     "end_time": "2024-08-13T16:45:34.544256",
     "exception": false,
     "start_time": "2024-08-13T16:45:34.498473",
     "status": "completed"
    },
    "tags": []
   },
   "outputs": [],
   "source": [
    "X_train_nn = torch.from_numpy(X_train).type(torch.float)\n",
    "X_test_nn = torch.from_numpy(X_test).type(torch.float)\n",
    "y_train_nn = torch.tensor(y_train.values)\n",
    "y_test_nn = torch.tensor(y_test.values)"
   ]
  },
  {
   "cell_type": "code",
   "execution_count": 30,
   "id": "2e02b946",
   "metadata": {
    "execution": {
     "iopub.execute_input": "2024-08-13T16:45:34.579461Z",
     "iopub.status.busy": "2024-08-13T16:45:34.578783Z",
     "iopub.status.idle": "2024-08-13T16:45:34.641740Z",
     "shell.execute_reply": "2024-08-13T16:45:34.640344Z"
    },
    "papermill": {
     "duration": 0.085042,
     "end_time": "2024-08-13T16:45:34.645546",
     "exception": false,
     "start_time": "2024-08-13T16:45:34.560504",
     "status": "completed"
    },
    "tags": []
   },
   "outputs": [],
   "source": [
    "logits = model_0(X_train_nn)\n",
    "y_preds = torch.sigmoid(logits)"
   ]
  },
  {
   "cell_type": "code",
   "execution_count": 31,
   "id": "0c1b34c6",
   "metadata": {
    "execution": {
     "iopub.execute_input": "2024-08-13T16:45:34.678384Z",
     "iopub.status.busy": "2024-08-13T16:45:34.677971Z",
     "iopub.status.idle": "2024-08-13T16:45:34.684415Z",
     "shell.execute_reply": "2024-08-13T16:45:34.683174Z"
    },
    "papermill": {
     "duration": 0.025988,
     "end_time": "2024-08-13T16:45:34.687052",
     "exception": false,
     "start_time": "2024-08-13T16:45:34.661064",
     "status": "completed"
    },
    "tags": []
   },
   "outputs": [],
   "source": [
    "loss_fn = nn.BCEWithLogitsLoss() # BCEWithLogitsLoss = sigmoid built-in\n",
    "\n",
    "# Create an optimizer\n",
    "optimizer = torch.optim.SGD(params=model_0.parameters(), \n",
    "                            lr=0.1)"
   ]
  },
  {
   "cell_type": "code",
   "execution_count": 32,
   "id": "99598411",
   "metadata": {
    "execution": {
     "iopub.execute_input": "2024-08-13T16:45:34.719525Z",
     "iopub.status.busy": "2024-08-13T16:45:34.719083Z",
     "iopub.status.idle": "2024-08-13T16:45:34.725674Z",
     "shell.execute_reply": "2024-08-13T16:45:34.724369Z"
    },
    "papermill": {
     "duration": 0.026044,
     "end_time": "2024-08-13T16:45:34.728378",
     "exception": false,
     "start_time": "2024-08-13T16:45:34.702334",
     "status": "completed"
    },
    "tags": []
   },
   "outputs": [],
   "source": [
    "def accuracy_fn(y_true, y_pred):\n",
    "    correct = torch.eq(y_true, y_pred).sum().item() # torch.eq() calculates where two tensors are equal\n",
    "    acc = (correct / len(y_pred)) * 100 \n",
    "    return acc"
   ]
  },
  {
   "cell_type": "code",
   "execution_count": 33,
   "id": "7b06fdbf",
   "metadata": {
    "execution": {
     "iopub.execute_input": "2024-08-13T16:45:34.761025Z",
     "iopub.status.busy": "2024-08-13T16:45:34.760529Z",
     "iopub.status.idle": "2024-08-13T16:45:42.389205Z",
     "shell.execute_reply": "2024-08-13T16:45:42.388096Z"
    },
    "papermill": {
     "duration": 7.648768,
     "end_time": "2024-08-13T16:45:42.392496",
     "exception": false,
     "start_time": "2024-08-13T16:45:34.743728",
     "status": "completed"
    },
    "tags": []
   },
   "outputs": [
    {
     "name": "stdout",
     "output_type": "stream",
     "text": [
      "Epoch: 0 | Loss: 0.69710, Accuracy: 37.64% | Test loss: 0.69361, Test acc: 41.34%\n",
      "Epoch: 10 | Loss: 0.67677, Accuracy: 62.36% | Test loss: 0.68042, Test acc: 58.66%\n",
      "Epoch: 20 | Loss: 0.66570, Accuracy: 62.36% | Test loss: 0.67398, Test acc: 58.66%\n",
      "Epoch: 30 | Loss: 0.65819, Accuracy: 62.36% | Test loss: 0.66932, Test acc: 58.66%\n",
      "Epoch: 40 | Loss: 0.65112, Accuracy: 62.36% | Test loss: 0.66397, Test acc: 58.66%\n",
      "Epoch: 50 | Loss: 0.64217, Accuracy: 62.36% | Test loss: 0.65583, Test acc: 58.66%\n",
      "Epoch: 60 | Loss: 0.62932, Accuracy: 62.36% | Test loss: 0.64304, Test acc: 58.66%\n",
      "Epoch: 70 | Loss: 0.61062, Accuracy: 62.50% | Test loss: 0.62378, Test acc: 58.66%\n",
      "Epoch: 80 | Loss: 0.58418, Accuracy: 65.31% | Test loss: 0.59693, Test acc: 60.89%\n",
      "Epoch: 90 | Loss: 0.55220, Accuracy: 79.35% | Test loss: 0.56503, Test acc: 78.21%\n",
      "Epoch: 100 | Loss: 0.51935, Accuracy: 80.48% | Test loss: 0.53322, Test acc: 78.77%\n",
      "Epoch: 110 | Loss: 0.49374, Accuracy: 79.63% | Test loss: 0.50953, Test acc: 77.65%\n",
      "Epoch: 120 | Loss: 0.47862, Accuracy: 79.63% | Test loss: 0.49648, Test acc: 77.65%\n",
      "Epoch: 130 | Loss: 0.47011, Accuracy: 79.63% | Test loss: 0.48974, Test acc: 78.21%\n",
      "Epoch: 140 | Loss: 0.46437, Accuracy: 80.34% | Test loss: 0.48559, Test acc: 78.77%\n",
      "Epoch: 150 | Loss: 0.45982, Accuracy: 80.48% | Test loss: 0.48268, Test acc: 78.77%\n",
      "Epoch: 160 | Loss: 0.45586, Accuracy: 80.90% | Test loss: 0.48026, Test acc: 78.77%\n",
      "Epoch: 170 | Loss: 0.45216, Accuracy: 81.04% | Test loss: 0.47807, Test acc: 78.77%\n",
      "Epoch: 180 | Loss: 0.44858, Accuracy: 81.18% | Test loss: 0.47600, Test acc: 79.33%\n",
      "Epoch: 190 | Loss: 0.44513, Accuracy: 81.74% | Test loss: 0.47418, Test acc: 79.33%\n",
      "Epoch: 200 | Loss: 0.44183, Accuracy: 82.16% | Test loss: 0.47255, Test acc: 79.33%\n",
      "Epoch: 210 | Loss: 0.43863, Accuracy: 82.72% | Test loss: 0.47099, Test acc: 79.33%\n",
      "Epoch: 220 | Loss: 0.43543, Accuracy: 82.87% | Test loss: 0.46934, Test acc: 79.33%\n",
      "Epoch: 230 | Loss: 0.43221, Accuracy: 83.01% | Test loss: 0.46764, Test acc: 79.89%\n",
      "Epoch: 240 | Loss: 0.42844, Accuracy: 83.15% | Test loss: 0.46549, Test acc: 79.89%\n",
      "Epoch: 250 | Loss: 0.42492, Accuracy: 83.15% | Test loss: 0.46354, Test acc: 79.89%\n",
      "Epoch: 260 | Loss: 0.42186, Accuracy: 83.15% | Test loss: 0.46196, Test acc: 79.89%\n",
      "Epoch: 270 | Loss: 0.41906, Accuracy: 83.15% | Test loss: 0.46048, Test acc: 79.89%\n",
      "Epoch: 280 | Loss: 0.41655, Accuracy: 83.15% | Test loss: 0.45905, Test acc: 79.89%\n",
      "Epoch: 290 | Loss: 0.41430, Accuracy: 83.29% | Test loss: 0.45769, Test acc: 79.89%\n",
      "Epoch: 300 | Loss: 0.41238, Accuracy: 83.15% | Test loss: 0.45657, Test acc: 79.89%\n",
      "Epoch: 310 | Loss: 0.41067, Accuracy: 83.15% | Test loss: 0.45564, Test acc: 79.89%\n",
      "Epoch: 320 | Loss: 0.40910, Accuracy: 83.29% | Test loss: 0.45469, Test acc: 79.89%\n",
      "Epoch: 330 | Loss: 0.40772, Accuracy: 83.29% | Test loss: 0.45382, Test acc: 79.89%\n",
      "Epoch: 340 | Loss: 0.40643, Accuracy: 83.43% | Test loss: 0.45305, Test acc: 79.89%\n",
      "Epoch: 350 | Loss: 0.40525, Accuracy: 83.57% | Test loss: 0.45237, Test acc: 79.89%\n",
      "Epoch: 360 | Loss: 0.40458, Accuracy: 83.85% | Test loss: 0.45278, Test acc: 79.33%\n",
      "Epoch: 370 | Loss: 0.40984, Accuracy: 83.57% | Test loss: 0.46179, Test acc: 79.89%\n",
      "Epoch: 380 | Loss: 0.42052, Accuracy: 83.99% | Test loss: 0.46767, Test acc: 78.77%\n",
      "Epoch: 390 | Loss: 0.40835, Accuracy: 83.57% | Test loss: 0.45765, Test acc: 79.89%\n",
      "Epoch: 400 | Loss: 0.40662, Accuracy: 83.57% | Test loss: 0.45685, Test acc: 79.89%\n",
      "Epoch: 410 | Loss: 0.41038, Accuracy: 84.13% | Test loss: 0.46094, Test acc: 79.89%\n",
      "Epoch: 420 | Loss: 0.40966, Accuracy: 84.13% | Test loss: 0.45936, Test acc: 79.89%\n",
      "Epoch: 430 | Loss: 0.40762, Accuracy: 84.13% | Test loss: 0.45801, Test acc: 79.89%\n",
      "Epoch: 440 | Loss: 0.40793, Accuracy: 83.99% | Test loss: 0.45824, Test acc: 79.89%\n",
      "Epoch: 450 | Loss: 0.40679, Accuracy: 83.99% | Test loss: 0.45741, Test acc: 79.89%\n",
      "Epoch: 460 | Loss: 0.40654, Accuracy: 84.27% | Test loss: 0.45744, Test acc: 79.89%\n",
      "Epoch: 470 | Loss: 0.40608, Accuracy: 84.27% | Test loss: 0.45735, Test acc: 79.89%\n",
      "Epoch: 480 | Loss: 0.40532, Accuracy: 84.27% | Test loss: 0.45649, Test acc: 79.89%\n",
      "Epoch: 490 | Loss: 0.40338, Accuracy: 84.27% | Test loss: 0.45529, Test acc: 79.89%\n",
      "Epoch: 500 | Loss: 0.40473, Accuracy: 84.13% | Test loss: 0.45672, Test acc: 79.89%\n",
      "Epoch: 510 | Loss: 0.40291, Accuracy: 84.27% | Test loss: 0.45512, Test acc: 79.89%\n",
      "Epoch: 520 | Loss: 0.40196, Accuracy: 84.27% | Test loss: 0.45486, Test acc: 79.89%\n",
      "Epoch: 530 | Loss: 0.40486, Accuracy: 83.99% | Test loss: 0.45805, Test acc: 78.77%\n",
      "Epoch: 540 | Loss: 0.40207, Accuracy: 84.13% | Test loss: 0.45490, Test acc: 79.89%\n",
      "Epoch: 550 | Loss: 0.40205, Accuracy: 84.27% | Test loss: 0.45586, Test acc: 79.33%\n",
      "Epoch: 560 | Loss: 0.40228, Accuracy: 84.13% | Test loss: 0.45572, Test acc: 79.33%\n",
      "Epoch: 570 | Loss: 0.40034, Accuracy: 84.27% | Test loss: 0.45417, Test acc: 79.89%\n",
      "Epoch: 580 | Loss: 0.40282, Accuracy: 84.41% | Test loss: 0.45688, Test acc: 78.77%\n",
      "Epoch: 590 | Loss: 0.40050, Accuracy: 83.99% | Test loss: 0.45410, Test acc: 79.33%\n",
      "Epoch: 600 | Loss: 0.39887, Accuracy: 84.13% | Test loss: 0.45343, Test acc: 79.33%\n",
      "Epoch: 610 | Loss: 0.40246, Accuracy: 84.41% | Test loss: 0.45708, Test acc: 78.77%\n",
      "Epoch: 620 | Loss: 0.39811, Accuracy: 84.27% | Test loss: 0.45242, Test acc: 80.45%\n",
      "Epoch: 630 | Loss: 0.39712, Accuracy: 84.27% | Test loss: 0.45273, Test acc: 79.89%\n",
      "Epoch: 640 | Loss: 0.40044, Accuracy: 84.55% | Test loss: 0.45560, Test acc: 78.77%\n",
      "Epoch: 650 | Loss: 0.39534, Accuracy: 84.41% | Test loss: 0.45042, Test acc: 80.45%\n",
      "Epoch: 660 | Loss: 0.39588, Accuracy: 84.27% | Test loss: 0.45255, Test acc: 79.89%\n",
      "Epoch: 670 | Loss: 0.39921, Accuracy: 84.41% | Test loss: 0.45462, Test acc: 79.33%\n",
      "Epoch: 680 | Loss: 0.39236, Accuracy: 84.41% | Test loss: 0.44800, Test acc: 80.45%\n",
      "Epoch: 690 | Loss: 0.39534, Accuracy: 84.27% | Test loss: 0.45348, Test acc: 79.33%\n",
      "Epoch: 700 | Loss: 0.39812, Accuracy: 84.27% | Test loss: 0.45351, Test acc: 79.33%\n",
      "Epoch: 710 | Loss: 0.39014, Accuracy: 84.41% | Test loss: 0.44687, Test acc: 81.01%\n",
      "Epoch: 720 | Loss: 0.39575, Accuracy: 84.13% | Test loss: 0.45504, Test acc: 79.33%\n",
      "Epoch: 730 | Loss: 0.39397, Accuracy: 84.41% | Test loss: 0.45098, Test acc: 80.45%\n",
      "Epoch: 740 | Loss: 0.38949, Accuracy: 84.55% | Test loss: 0.44811, Test acc: 80.45%\n",
      "Epoch: 750 | Loss: 0.39636, Accuracy: 83.57% | Test loss: 0.45546, Test acc: 79.33%\n",
      "Epoch: 760 | Loss: 0.38898, Accuracy: 84.55% | Test loss: 0.44785, Test acc: 81.01%\n",
      "Epoch: 770 | Loss: 0.39409, Accuracy: 83.71% | Test loss: 0.45581, Test acc: 79.33%\n",
      "Epoch: 780 | Loss: 0.39176, Accuracy: 84.41% | Test loss: 0.45113, Test acc: 79.89%\n",
      "Epoch: 790 | Loss: 0.38842, Accuracy: 84.27% | Test loss: 0.44963, Test acc: 79.89%\n",
      "Epoch: 800 | Loss: 0.39663, Accuracy: 83.71% | Test loss: 0.45783, Test acc: 79.33%\n",
      "Epoch: 810 | Loss: 0.38741, Accuracy: 84.27% | Test loss: 0.44812, Test acc: 79.89%\n",
      "Epoch: 820 | Loss: 0.39233, Accuracy: 83.57% | Test loss: 0.45625, Test acc: 79.89%\n",
      "Epoch: 830 | Loss: 0.39030, Accuracy: 84.27% | Test loss: 0.45142, Test acc: 79.89%\n",
      "Epoch: 840 | Loss: 0.38454, Accuracy: 84.69% | Test loss: 0.44674, Test acc: 80.45%\n",
      "Epoch: 850 | Loss: 0.39877, Accuracy: 83.71% | Test loss: 0.46349, Test acc: 78.77%\n",
      "Epoch: 860 | Loss: 0.38461, Accuracy: 84.41% | Test loss: 0.44635, Test acc: 80.45%\n",
      "Epoch: 870 | Loss: 0.38203, Accuracy: 84.83% | Test loss: 0.44610, Test acc: 79.89%\n",
      "Epoch: 880 | Loss: 0.40566, Accuracy: 82.87% | Test loss: 0.46787, Test acc: 78.77%\n",
      "Epoch: 890 | Loss: 0.38038, Accuracy: 84.97% | Test loss: 0.44282, Test acc: 80.45%\n",
      "Epoch: 900 | Loss: 0.38191, Accuracy: 84.83% | Test loss: 0.44890, Test acc: 79.33%\n",
      "Epoch: 910 | Loss: 0.40111, Accuracy: 83.29% | Test loss: 0.46186, Test acc: 79.89%\n",
      "Epoch: 920 | Loss: 0.37751, Accuracy: 85.25% | Test loss: 0.44077, Test acc: 80.45%\n",
      "Epoch: 930 | Loss: 0.38521, Accuracy: 83.57% | Test loss: 0.45590, Test acc: 78.77%\n",
      "Epoch: 940 | Loss: 0.39084, Accuracy: 83.71% | Test loss: 0.45320, Test acc: 79.89%\n",
      "Epoch: 950 | Loss: 0.37596, Accuracy: 85.25% | Test loss: 0.44081, Test acc: 80.45%\n",
      "Epoch: 960 | Loss: 0.39626, Accuracy: 82.87% | Test loss: 0.46923, Test acc: 78.77%\n",
      "Epoch: 970 | Loss: 0.38130, Accuracy: 84.55% | Test loss: 0.44617, Test acc: 79.89%\n",
      "Epoch: 980 | Loss: 0.37656, Accuracy: 84.97% | Test loss: 0.44431, Test acc: 79.89%\n",
      "Epoch: 990 | Loss: 0.40212, Accuracy: 83.01% | Test loss: 0.46770, Test acc: 79.89%\n"
     ]
    }
   ],
   "source": [
    "torch.manual_seed(42)\n",
    "\n",
    "# Set the number of epochs\n",
    "epochs = 1000\n",
    "\n",
    "# Put data to target device\n",
    "X_train, y_train = X_train_nn.to(device), y_train_nn.to(device).float()\n",
    "X_test, y_test = X_test_nn.to(device), y_test_nn.to(device).float()\n",
    "\n",
    "# Build training and evaluation loop\n",
    "for epoch in range(epochs):\n",
    "    ### Training\n",
    "    model_0.train()\n",
    "\n",
    "    # 1. Forward pass (model outputs raw logits)\n",
    "    y_logits = model_0(X_train).squeeze() # squeeze to remove extra `1` dimensions, this won't work unless model and data are on same device \n",
    "    y_pred = torch.round(torch.sigmoid(y_logits)) # turn logits -> pred probs -> pred labls\n",
    "  \n",
    "    # 2. Calculate loss/accuracy\n",
    "    # loss = loss_fn(torch.sigmoid(y_logits), # Using nn.BCELoss you need torch.sigmoid()\n",
    "    #                y_train) \n",
    "    loss = loss_fn(y_logits, # Using nn.BCEWithLogitsLoss works with raw logits\n",
    "                   y_train) \n",
    "    acc = accuracy_fn(y_true=y_train, \n",
    "                      y_pred=y_pred) \n",
    "\n",
    "    # 3. Optimizer zero grad\n",
    "    optimizer.zero_grad()\n",
    "\n",
    "    # 4. Loss backwards\n",
    "    loss.backward()\n",
    "\n",
    "    # 5. Optimizer step\n",
    "    optimizer.step()\n",
    "\n",
    "    ### Testing\n",
    "    model_0.eval()\n",
    "    with torch.inference_mode():\n",
    "        # 1. Forward pass\n",
    "        test_logits = model_0(X_test).squeeze() \n",
    "        test_pred = torch.round(torch.sigmoid(test_logits))\n",
    "        # 2. Caculate loss/accuracy\n",
    "        test_loss = loss_fn(test_logits,\n",
    "                            y_test)\n",
    "        test_acc = accuracy_fn(y_true=y_test,\n",
    "                               y_pred=test_pred)\n",
    "\n",
    "    # Print out what's happening every 10 epochs\n",
    "    if epoch % 10 == 0:\n",
    "        print(f\"Epoch: {epoch} | Loss: {loss:.5f}, Accuracy: {acc:.2f}% | Test loss: {test_loss:.5f}, Test acc: {test_acc:.2f}%\")"
   ]
  },
  {
   "cell_type": "code",
   "execution_count": 34,
   "id": "f3af27d2",
   "metadata": {
    "execution": {
     "iopub.execute_input": "2024-08-13T16:45:42.496476Z",
     "iopub.status.busy": "2024-08-13T16:45:42.496063Z",
     "iopub.status.idle": "2024-08-13T16:45:42.506638Z",
     "shell.execute_reply": "2024-08-13T16:45:42.505321Z"
    },
    "papermill": {
     "duration": 0.097954,
     "end_time": "2024-08-13T16:45:42.509308",
     "exception": false,
     "start_time": "2024-08-13T16:45:42.411354",
     "status": "completed"
    },
    "tags": []
   },
   "outputs": [],
   "source": [
    "test_data_dummies = scaler.transform(test_data_dummies[['Fare', 'SibSp_Parch', 'Age', 'Sex_male']])"
   ]
  },
  {
   "cell_type": "code",
   "execution_count": 35,
   "id": "31b6b6b3",
   "metadata": {
    "execution": {
     "iopub.execute_input": "2024-08-13T16:45:42.549957Z",
     "iopub.status.busy": "2024-08-13T16:45:42.549110Z",
     "iopub.status.idle": "2024-08-13T16:45:42.569813Z",
     "shell.execute_reply": "2024-08-13T16:45:42.568509Z"
    },
    "papermill": {
     "duration": 0.044926,
     "end_time": "2024-08-13T16:45:42.572801",
     "exception": false,
     "start_time": "2024-08-13T16:45:42.527875",
     "status": "completed"
    },
    "tags": []
   },
   "outputs": [],
   "source": [
    "predictions = clf.predict(test_data_dummies)\n",
    "\n",
    "output = pd.DataFrame({'PassengerId': test_data['PassengerId'], 'Survived': predictions})"
   ]
  },
  {
   "cell_type": "code",
   "execution_count": 36,
   "id": "9ebe1af2",
   "metadata": {
    "execution": {
     "iopub.execute_input": "2024-08-13T16:45:42.612798Z",
     "iopub.status.busy": "2024-08-13T16:45:42.612062Z",
     "iopub.status.idle": "2024-08-13T16:45:42.625187Z",
     "shell.execute_reply": "2024-08-13T16:45:42.623880Z"
    },
    "papermill": {
     "duration": 0.035739,
     "end_time": "2024-08-13T16:45:42.627717",
     "exception": false,
     "start_time": "2024-08-13T16:45:42.591978",
     "status": "completed"
    },
    "tags": []
   },
   "outputs": [
    {
     "data": {
      "text/html": [
       "<div>\n",
       "<style scoped>\n",
       "    .dataframe tbody tr th:only-of-type {\n",
       "        vertical-align: middle;\n",
       "    }\n",
       "\n",
       "    .dataframe tbody tr th {\n",
       "        vertical-align: top;\n",
       "    }\n",
       "\n",
       "    .dataframe thead th {\n",
       "        text-align: right;\n",
       "    }\n",
       "</style>\n",
       "<table border=\"1\" class=\"dataframe\">\n",
       "  <thead>\n",
       "    <tr style=\"text-align: right;\">\n",
       "      <th></th>\n",
       "      <th>PassengerId</th>\n",
       "      <th>Survived</th>\n",
       "    </tr>\n",
       "  </thead>\n",
       "  <tbody>\n",
       "    <tr>\n",
       "      <th>0</th>\n",
       "      <td>892</td>\n",
       "      <td>0</td>\n",
       "    </tr>\n",
       "    <tr>\n",
       "      <th>1</th>\n",
       "      <td>893</td>\n",
       "      <td>0</td>\n",
       "    </tr>\n",
       "    <tr>\n",
       "      <th>2</th>\n",
       "      <td>894</td>\n",
       "      <td>0</td>\n",
       "    </tr>\n",
       "    <tr>\n",
       "      <th>3</th>\n",
       "      <td>895</td>\n",
       "      <td>1</td>\n",
       "    </tr>\n",
       "    <tr>\n",
       "      <th>4</th>\n",
       "      <td>896</td>\n",
       "      <td>1</td>\n",
       "    </tr>\n",
       "    <tr>\n",
       "      <th>...</th>\n",
       "      <td>...</td>\n",
       "      <td>...</td>\n",
       "    </tr>\n",
       "    <tr>\n",
       "      <th>413</th>\n",
       "      <td>1305</td>\n",
       "      <td>0</td>\n",
       "    </tr>\n",
       "    <tr>\n",
       "      <th>414</th>\n",
       "      <td>1306</td>\n",
       "      <td>1</td>\n",
       "    </tr>\n",
       "    <tr>\n",
       "      <th>415</th>\n",
       "      <td>1307</td>\n",
       "      <td>0</td>\n",
       "    </tr>\n",
       "    <tr>\n",
       "      <th>416</th>\n",
       "      <td>1308</td>\n",
       "      <td>0</td>\n",
       "    </tr>\n",
       "    <tr>\n",
       "      <th>417</th>\n",
       "      <td>1309</td>\n",
       "      <td>0</td>\n",
       "    </tr>\n",
       "  </tbody>\n",
       "</table>\n",
       "<p>418 rows × 2 columns</p>\n",
       "</div>"
      ],
      "text/plain": [
       "     PassengerId  Survived\n",
       "0            892         0\n",
       "1            893         0\n",
       "2            894         0\n",
       "3            895         1\n",
       "4            896         1\n",
       "..           ...       ...\n",
       "413         1305         0\n",
       "414         1306         1\n",
       "415         1307         0\n",
       "416         1308         0\n",
       "417         1309         0\n",
       "\n",
       "[418 rows x 2 columns]"
      ]
     },
     "execution_count": 36,
     "metadata": {},
     "output_type": "execute_result"
    }
   ],
   "source": [
    "output"
   ]
  },
  {
   "cell_type": "code",
   "execution_count": 37,
   "id": "05b62b4e",
   "metadata": {
    "execution": {
     "iopub.execute_input": "2024-08-13T16:45:42.668458Z",
     "iopub.status.busy": "2024-08-13T16:45:42.668023Z",
     "iopub.status.idle": "2024-08-13T16:45:42.679398Z",
     "shell.execute_reply": "2024-08-13T16:45:42.678151Z"
    },
    "papermill": {
     "duration": 0.034484,
     "end_time": "2024-08-13T16:45:42.682070",
     "exception": false,
     "start_time": "2024-08-13T16:45:42.647586",
     "status": "completed"
    },
    "tags": []
   },
   "outputs": [
    {
     "name": "stdout",
     "output_type": "stream",
     "text": [
      "Your submission was successfully saved!\n"
     ]
    }
   ],
   "source": [
    "output.to_csv('submission.csv', index=False)\n",
    "print(\"Your submission was successfully saved!\")"
   ]
  }
 ],
 "metadata": {
  "kaggle": {
   "accelerator": "none",
   "dataSources": [
    {
     "databundleVersionId": 26502,
     "sourceId": 3136,
     "sourceType": "competition"
    }
   ],
   "dockerImageVersionId": 30746,
   "isGpuEnabled": false,
   "isInternetEnabled": true,
   "language": "python",
   "sourceType": "notebook"
  },
  "kernelspec": {
   "display_name": "Python 3",
   "language": "python",
   "name": "python3"
  },
  "language_info": {
   "codemirror_mode": {
    "name": "ipython",
    "version": 3
   },
   "file_extension": ".py",
   "mimetype": "text/x-python",
   "name": "python",
   "nbconvert_exporter": "python",
   "pygments_lexer": "ipython3",
   "version": "3.10.13"
  },
  "papermill": {
   "default_parameters": {},
   "duration": 25.286761,
   "end_time": "2024-08-13T16:45:44.127974",
   "environment_variables": {},
   "exception": null,
   "input_path": "__notebook__.ipynb",
   "output_path": "__notebook__.ipynb",
   "parameters": {},
   "start_time": "2024-08-13T16:45:18.841213",
   "version": "2.5.0"
  }
 },
 "nbformat": 4,
 "nbformat_minor": 5
}
